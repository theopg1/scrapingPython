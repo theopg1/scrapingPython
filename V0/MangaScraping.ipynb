{
 "cells": [
  {
   "cell_type": "code",
   "execution_count": 1,
   "metadata": {},
   "outputs": [
    {
     "name": "stdout",
     "output_type": "stream",
     "text": [
      "Requirement already satisfied: bs4 in c:\\python39\\lib\\site-packages (0.0.1)\n",
      "Requirement already satisfied: beautifulsoup4 in c:\\python39\\lib\\site-packages (from bs4) (4.11.1)\n",
      "Requirement already satisfied: soupsieve>1.2 in c:\\python39\\lib\\site-packages (from beautifulsoup4->bs4) (2.3.2.post1)\n"
     ]
    },
    {
     "name": "stderr",
     "output_type": "stream",
     "text": [
      "WARNING: Ignoring invalid distribution -ip (c:\\python39\\lib\\site-packages)\n",
      "WARNING: Ignoring invalid distribution -ip (c:\\python39\\lib\\site-packages)\n",
      "WARNING: Ignoring invalid distribution -ip (c:\\python39\\lib\\site-packages)\n",
      "WARNING: Ignoring invalid distribution -ip (c:\\python39\\lib\\site-packages)\n",
      "WARNING: Ignoring invalid distribution -ip (c:\\python39\\lib\\site-packages)\n",
      "WARNING: Ignoring invalid distribution -ip (c:\\python39\\lib\\site-packages)\n"
     ]
    }
   ],
   "source": [
    "import urllib\n",
    "!pip install bs4\n",
    "import bs4\n",
    "#help(bs4)"
   ]
  },
  {
   "cell_type": "code",
   "execution_count": 2,
   "metadata": {},
   "outputs": [
    {
     "name": "stdout",
     "output_type": "stream",
     "text": [
      "\n",
      "<!DOCTYPE html PUBLIC \"-//W3C//DTD XHTML 1.0 Transitional//EN\"\n",
      "    \"http://www.w3.org/TR/xhtml1/DTD/xhtml1-transitional.dtd\">\n",
      "\n",
      "<html lang=\"en\" xmlns:og=\"http://ogp.me/ns#\" xmlns:fb=\"http://www.facebook.com/2008/fbml\">\n",
      "<head>\n",
      "    \n",
      "<link rel=\"preconnect\" href=\"//fonts.gstatic.com/\" crossorigin=\"anonymous\" />\n",
      "<link rel=\"preconnect\" href=\"//fonts.googleapis.com/\" crossorigin=\"anonymous\" />\n",
      "<link rel=\"preconnect\" href=\"//tags-cdn.deployads.com/\" crossorigin=\"anonymous\" />\n",
      "<link rel=\"preconnect\" href=\"//www.googletagservices.com/\" crossorigin=\"anonymous\" />\n",
      "<link rel=\"preconnect\" href=\"//www.googletagmanager.com/\" crossorigin=\"anonymous\"/>\n",
      "<link rel=\"preconnect\" href=\"//apis.google.com/\" crossorigin=\"anonymous\"/>\n",
      "<link rel=\"preconnect\" href=\"//pixel-sync.sitescout.com/\" crossorigin=\"anonymous\"/>\n",
      "<link rel=\"preconnect\" href=\"//pixel.tapad.com/\" crossorigin=\"anonymous\"/>\n",
      "<link rel=\"preconnect\" href=\"//c.deployads.com/\" crossorigin=\"anonymous\"/>\n",
      "<link rel=\"preconnect\" href=\"//tpc.googlesyndica\n"
     ]
    }
   ],
   "source": [
    "url_animes = \"https://myanimelist.net/manga/4754\"\n",
    "    \n",
    "from urllib import request\n",
    "\n",
    "request_text = request.urlopen(url_animes).read().decode('utf-8')\n",
    "print(request_text[:1000])    "
   ]
  },
  {
   "cell_type": "code",
   "execution_count": 3,
   "metadata": {},
   "outputs": [],
   "source": [
    "page = bs4.BeautifulSoup(request_text, \"html.parser\")\n",
    "\n",
    "#print(page)"
   ]
  },
  {
   "cell_type": "code",
   "execution_count": 4,
   "metadata": {},
   "outputs": [
    {
     "name": "stdout",
     "output_type": "stream",
     "text": [
      "Ultraman G\n",
      "ウルトラマンG\n",
      "https://cdn.myanimelist.net/images/manga/3/5856.jpg\n",
      "Manga\n",
      "Finished\n",
      "1993 au ?\n",
      "Action, Sci-Fi\n",
      "1\n",
      "Unknown\n",
      "A manga version of the live action Australian produced Ultraman Great. Not to be confused with the Ultraman: Towards the Future (U.S. and Australia title) comic book series produced in America.\n",
      "N/A\n",
      "16897\n",
      "31775\n"
     ]
    }
   ],
   "source": [
    "#titleManga\n",
    "if page.find('span', {'class' : 'h1-title'}) is not None :\n",
    "    title = page.find('span', {'class' : 'h1-title'}).text\n",
    "    print(title)\n",
    "\n",
    "#original title\n",
    "valueToFind = \"Japanese:\"\n",
    "if page.find('span', string=valueToFind) is not None :\n",
    "    originalTitle = page.find('span', string=valueToFind).parent.text.replace(valueToFind,\"\").strip()\n",
    "    print(originalTitle)\n",
    "\n",
    "#image\n",
    "image = page.find('div', {'class' : 'leftside'}).find('img').get(\"data-src\")\n",
    "print(image)\n",
    "\n",
    "#type\n",
    "valueToFind = \"Type:\"\n",
    "if page.find('span', string=valueToFind) is not None :\n",
    "    Type = page.find('span', string=valueToFind).parent.text.replace(valueToFind,\"\").strip()\n",
    "    print(Type)\n",
    "\n",
    "#status\n",
    "valueToFind = \"Status:\"\n",
    "if page.find('span', string=valueToFind) is not None :\n",
    "    status = page.find('span', string=valueToFind).parent.text.replace(valueToFind,\"\").strip()\n",
    "    print(status)\n",
    "\n",
    "#datesManga\n",
    "valueToFind = \"Published:\"\n",
    "if page.find('span', string=valueToFind) is not None :\n",
    "    published = page.find('span', string=valueToFind).parent.text.replace(valueToFind,\"\").strip()\n",
    "    published = published.replace(\"to\",\"au\")\n",
    "    print(published)\n",
    "\n",
    "#genres\n",
    "genres = \"\"\n",
    "for item in page.find('span', string=\"Genres:\").parent.findAll('a') :\n",
    "    genres = genres + item.get('title') + \", \"\n",
    "genres = genres[:-2]\n",
    "print(genres)\n",
    "\n",
    "#tomes\n",
    "valueToFind = \"Volumes:\"\n",
    "if page.find('span', string=valueToFind) is not None :\n",
    "    status = page.find('span', string=valueToFind).parent.text.replace(valueToFind,\"\").strip()\n",
    "    print(status)\n",
    "\n",
    "#chapitres\n",
    "valueToFind = \"Chapters:\"\n",
    "if page.find('span', string=valueToFind) is not None :\n",
    "    status = page.find('span', string=valueToFind).parent.text.replace(valueToFind,\"\").strip()\n",
    "    print(status)\n",
    "\n",
    "#synopsisManga\n",
    "if page.find('span', {'itemprop' : 'description'}) is not None :\n",
    "    synopsis = page.find('span', {'itemprop' : 'description'}).text.strip()\n",
    "    print(synopsis)\n",
    "\n",
    "#score\n",
    "score = page.find('div', {'class' : 'score-label'}).text.strip()\n",
    "print(score)\n",
    "\n",
    "#rank\n",
    "rank = page.find('span', {'class' : 'numbers ranked'}).find('strong').text.replace(\"#\",\"\").strip()\n",
    "print(rank)\n",
    "\n",
    "#popularity\n",
    "popularity = page.find('span', {'class' : 'numbers popularity'}).find('strong').text.replace(\"#\",\"\").strip()\n",
    "print(popularity)"
   ]
  }
 ],
 "metadata": {
  "anaconda-cloud": {},
  "kernelspec": {
   "display_name": "Python 3.9.2 64-bit",
   "language": "python",
   "name": "python3"
  },
  "language_info": {
   "codemirror_mode": {
    "name": "ipython",
    "version": 3
   },
   "file_extension": ".py",
   "mimetype": "text/x-python",
   "name": "python",
   "nbconvert_exporter": "python",
   "pygments_lexer": "ipython3",
   "version": "3.9.2"
  },
  "latex_envs": {
   "LaTeX_envs_menu_present": true,
   "autoclose": false,
   "autocomplete": true,
   "bibliofile": "biblio.bib",
   "cite_by": "apalike",
   "current_citInitial": 1,
   "eqLabelWithNumbers": true,
   "eqNumInitial": 1,
   "hotkeys": {
    "equation": "Ctrl-E",
    "itemize": "Ctrl-I"
   },
   "labels_anchors": false,
   "latex_user_defs": false,
   "report_style_numbering": false,
   "user_envs_cfg": false
  },
  "toc": {
   "base_numbering": 1,
   "nav_menu": {},
   "number_sections": true,
   "sideBar": true,
   "skip_h1_title": false,
   "title_cell": "Table of Contents",
   "title_sidebar": "Contents",
   "toc_cell": false,
   "toc_position": {},
   "toc_section_display": true,
   "toc_window_display": false
  },
  "varInspector": {
   "cols": {
    "lenName": 16,
    "lenType": 16,
    "lenVar": 40
   },
   "kernels_config": {
    "python": {
     "delete_cmd_postfix": "",
     "delete_cmd_prefix": "del ",
     "library": "var_list.py",
     "varRefreshCmd": "print(var_dic_list())"
    },
    "r": {
     "delete_cmd_postfix": ") ",
     "delete_cmd_prefix": "rm(",
     "library": "var_list.r",
     "varRefreshCmd": "cat(var_dic_list()) "
    }
   },
   "types_to_exclude": [
    "module",
    "function",
    "builtin_function_or_method",
    "instance",
    "_Feature"
   ],
   "window_display": false
  },
  "vscode": {
   "interpreter": {
    "hash": "81794d4967e6c3204c66dcd87b604927b115b27c00565d3d43f05ba2f3a2cb0d"
   }
  }
 },
 "nbformat": 4,
 "nbformat_minor": 1
}
