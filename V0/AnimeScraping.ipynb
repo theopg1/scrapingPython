{
 "cells": [
  {
   "cell_type": "code",
   "execution_count": 2,
   "metadata": {},
   "outputs": [
    {
     "name": "stdout",
     "output_type": "stream",
     "text": [
      "Requirement already satisfied: bs4 in c:\\python39\\lib\\site-packages (0.0.1)\n",
      "Requirement already satisfied: beautifulsoup4 in c:\\python39\\lib\\site-packages (from bs4) (4.11.1)\n",
      "Requirement already satisfied: soupsieve>1.2 in c:\\python39\\lib\\site-packages (from beautifulsoup4->bs4) (2.3.2.post1)\n"
     ]
    },
    {
     "name": "stderr",
     "output_type": "stream",
     "text": [
      "WARNING: Ignoring invalid distribution -ip (c:\\python39\\lib\\site-packages)\n",
      "WARNING: Ignoring invalid distribution -ip (c:\\python39\\lib\\site-packages)\n",
      "WARNING: Ignoring invalid distribution -ip (c:\\python39\\lib\\site-packages)\n",
      "WARNING: Ignoring invalid distribution -ip (c:\\python39\\lib\\site-packages)\n",
      "WARNING: Ignoring invalid distribution -ip (c:\\python39\\lib\\site-packages)\n",
      "WARNING: Ignoring invalid distribution -ip (c:\\python39\\lib\\site-packages)\n"
     ]
    }
   ],
   "source": [
    "import urllib\n",
    "!pip install bs4\n",
    "import bs4\n",
    "#help(bs4)"
   ]
  },
  {
   "cell_type": "code",
   "execution_count": 3,
   "metadata": {},
   "outputs": [
    {
     "name": "stdout",
     "output_type": "stream",
     "text": [
      "\n",
      "<!DOCTYPE html PUBLIC \"-//W3C//DTD XHTML 1.0 Transitional//EN\"\n",
      "    \"http://www.w3.org/TR/xhtml1/DTD/xhtml1-transitional.dtd\">\n",
      "\n",
      "<html lang=\"en\" xmlns:og=\"http://ogp.me/ns#\" xmlns:fb=\"http://www.facebook.com/2008/fbml\">\n",
      "<head>\n",
      "    \n",
      "<link rel=\"preconnect\" href=\"//fonts.gstatic.com/\" crossorigin=\"anonymous\" />\n",
      "<link rel=\"preconnect\" href=\"//fonts.googleapis.com/\" crossorigin=\"anonymous\" />\n",
      "<link rel=\"preconnect\" href=\"//tags-cdn.deployads.com/\" crossorigin=\"anonymous\" />\n",
      "<link rel=\"preconnect\" href=\"//www.googletagservices.com/\" crossorigin=\"anonymous\" />\n",
      "<link rel=\"preconnect\" href=\"//www.googletagmanager.com/\" crossorigin=\"anonymous\"/>\n",
      "<link rel=\"preconnect\" href=\"//apis.google.com/\" crossorigin=\"anonymous\"/>\n",
      "<link rel=\"preconnect\" href=\"//pixel-sync.sitescout.com/\" crossorigin=\"anonymous\"/>\n",
      "<link rel=\"preconnect\" href=\"//pixel.tapad.com/\" crossorigin=\"anonymous\"/>\n",
      "<link rel=\"preconnect\" href=\"//c.deployads.com/\" crossorigin=\"anonymous\"/>\n",
      "<link rel=\"preconnect\" href=\"//tpc.googlesyndica\n"
     ]
    }
   ],
   "source": [
    "url_animes = \"https://myanimelist.net/anime/41467\"\n",
    "    \n",
    "from urllib import request\n",
    "\n",
    "request_text = request.urlopen(url_animes).read().decode('utf-8')\n",
    "print(request_text[:1000])"
   ]
  },
  {
   "cell_type": "code",
   "execution_count": 4,
   "metadata": {},
   "outputs": [],
   "source": [
    "page = bs4.BeautifulSoup(request_text, \"html.parser\")\n",
    "\n",
    "#print(page)"
   ]
  },
  {
   "cell_type": "code",
   "execution_count": 168,
   "metadata": {},
   "outputs": [
    {
     "name": "stdout",
     "output_type": "stream",
     "text": [
      "Bleach: Sennen Kessen-hen\n",
      "BLEACH 千年血戦篇\n",
      "https://cdn.myanimelist.net/images/anime/1764/126627.jpg\n",
      "TV\n",
      "Currently Airing\n",
      "Oct 11, 2022 au ?\n",
      "Action, Adventure, Fantasy\n",
      "Unknown\n",
      "Was it all just a coincidence, or was it inevitable?\n",
      "\n",
      "Ichigo Kurosaki gained the powers of a Soul Reaper through a chance encounter. As a Substitute Soul Reaper, Ichigo became caught in the turmoil of the Soul Society, a place where deceased souls gather. But with help from his friends, Ichigo overcame every challenge to become even stronger.\n",
      "\n",
      "When new Soul Reapers and a new enemy appear in his hometown of Karakura, Ichigo jumps back into the battlefield with his Zanpakuto to help those in need. Meanwhile, the Soul Society is observing a sudden surge in the number of Hollows being destroyed in the World of the Living. They also receive separate reports of residents in the Rukon District having gone missing. Finally, the Seireitei, home of the Soul Reapers, comes under attack by a group calling themselves the Wandenreich.\n",
      "\n",
      "Led by Yhwach, the father of all Quincies, the Wandenreich declare war against the Soul Reapers with the following message: \"Five days from now, the Soul Society will be annihilated by the Wandenreich.\"\n",
      "\n",
      "The history and truth kept hidden by the Soul Reapers for a thousand long years is finally brought to light.\n",
      "\n",
      "All things must come to an end—as Ichigo Kurosaki's final battle begins!\n",
      "\n",
      "(Source: VIZ Media)\n",
      "9.08\n",
      "3\n",
      "758\n"
     ]
    }
   ],
   "source": [
    "#titleAnime\n",
    "if page.find('h1', {'class' : 'title-name'}) is not None :\n",
    "    title = page.find('h1', {'class' : 'title-name'}).text\n",
    "    print(title)\n",
    "\n",
    "#original title\n",
    "valueToFind = \"Japanese:\"\n",
    "if page.find('span', string=valueToFind) is not None :\n",
    "    originalTitle = page.find('span', string=valueToFind).parent.text.replace(valueToFind,\"\").strip()\n",
    "    print(originalTitle)\n",
    "\n",
    "#image\n",
    "image = page.find('div', {'class' : 'leftside'}).find('img').get(\"data-src\")\n",
    "print(image)\n",
    "\n",
    "#type\n",
    "valueToFind = \"Type:\"\n",
    "if page.find('span', string=valueToFind) is not None :\n",
    "    Type = page.find('span', string=valueToFind).parent.text.replace(valueToFind,\"\").strip()\n",
    "    print(Type)\n",
    "\n",
    "#status\n",
    "valueToFind = \"Status:\"\n",
    "if page.find('span', string=valueToFind) is not None :\n",
    "    status = page.find('span', string=valueToFind).parent.text.replace(valueToFind,\"\").strip()\n",
    "    print(status)\n",
    "\n",
    "#datesAnime\n",
    "valueToFind = \"Aired:\"\n",
    "if page.find('span', string=valueToFind) is not None :\n",
    "    aired = page.find('span', string=valueToFind).parent.text.replace(valueToFind,\"\").strip()\n",
    "    aired = aired.replace(\"to\",\"au\")\n",
    "    print(aired)\n",
    "\n",
    "#genres\n",
    "genres = \"\"\n",
    "for item in page.find('span', string=\"Genres:\").parent.findAll('a') :\n",
    "    genres = genres + item.get('title') + \", \"\n",
    "genres = genres[:-2]\n",
    "print(genres)\n",
    "\n",
    "#episodes\n",
    "valueToFind = \"Episodes:\"\n",
    "if page.find('span', string=valueToFind) is not None :\n",
    "    status = page.find('span', string=valueToFind).parent.text.replace(valueToFind,\"\").strip()\n",
    "    print(status)\n",
    "\n",
    "#synopsisAnime\n",
    "if page.find('p', {'itemprop' : 'description'}) is not None :\n",
    "    synopsis = page.find('p', {'itemprop' : 'description'}).text.strip()\n",
    "    print(synopsis)\n",
    "\n",
    "#score\n",
    "score = page.find('div', {'class' : 'score-label'}).text.strip()\n",
    "print(score)\n",
    "\n",
    "#rank\n",
    "rank = page.find('span', {'class' : 'numbers ranked'}).find('strong').text.replace(\"#\",\"\").strip()\n",
    "print(rank)\n",
    "\n",
    "#popularity\n",
    "popularity = page.find('span', {'class' : 'numbers popularity'}).find('strong').text.replace(\"#\",\"\").strip()\n",
    "print(popularity)\n",
    "\n",
    "#Sortie\n",
    "valueToFind = \"Premiered:\"\n",
    "if page.find('span', string=valueToFind) is not None :\n",
    "    sortie = page.find('span', string=valueToFind).parent.text.replace(valueToFind,\"\").strip()\n",
    "    sortieSplit = sortie.split(\" \")\n",
    "    saison = sortieSplit[0]\n",
    "    année = sortieSplit[1]\n",
    "    print(saison)\n",
    "    print(année)"
   ]
  }
 ],
 "metadata": {
  "anaconda-cloud": {},
  "kernelspec": {
   "display_name": "Python 3.9.2 64-bit",
   "language": "python",
   "name": "python3"
  },
  "language_info": {
   "codemirror_mode": {
    "name": "ipython",
    "version": 3
   },
   "file_extension": ".py",
   "mimetype": "text/x-python",
   "name": "python",
   "nbconvert_exporter": "python",
   "pygments_lexer": "ipython3",
   "version": "3.9.2"
  },
  "latex_envs": {
   "LaTeX_envs_menu_present": true,
   "autoclose": false,
   "autocomplete": true,
   "bibliofile": "biblio.bib",
   "cite_by": "apalike",
   "current_citInitial": 1,
   "eqLabelWithNumbers": true,
   "eqNumInitial": 1,
   "hotkeys": {
    "equation": "Ctrl-E",
    "itemize": "Ctrl-I"
   },
   "labels_anchors": false,
   "latex_user_defs": false,
   "report_style_numbering": false,
   "user_envs_cfg": false
  },
  "toc": {
   "base_numbering": 1,
   "nav_menu": {},
   "number_sections": true,
   "sideBar": true,
   "skip_h1_title": false,
   "title_cell": "Table of Contents",
   "title_sidebar": "Contents",
   "toc_cell": false,
   "toc_position": {},
   "toc_section_display": true,
   "toc_window_display": false
  },
  "varInspector": {
   "cols": {
    "lenName": 16,
    "lenType": 16,
    "lenVar": 40
   },
   "kernels_config": {
    "python": {
     "delete_cmd_postfix": "",
     "delete_cmd_prefix": "del ",
     "library": "var_list.py",
     "varRefreshCmd": "print(var_dic_list())"
    },
    "r": {
     "delete_cmd_postfix": ") ",
     "delete_cmd_prefix": "rm(",
     "library": "var_list.r",
     "varRefreshCmd": "cat(var_dic_list()) "
    }
   },
   "types_to_exclude": [
    "module",
    "function",
    "builtin_function_or_method",
    "instance",
    "_Feature"
   ],
   "window_display": false
  },
  "vscode": {
   "interpreter": {
    "hash": "81794d4967e6c3204c66dcd87b604927b115b27c00565d3d43f05ba2f3a2cb0d"
   }
  }
 },
 "nbformat": 4,
 "nbformat_minor": 1
}
